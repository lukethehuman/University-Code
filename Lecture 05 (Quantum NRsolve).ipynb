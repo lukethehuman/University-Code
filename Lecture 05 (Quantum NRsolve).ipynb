{
 "cells": [
  {
   "cell_type": "code",
   "execution_count": 15,
   "metadata": {},
   "outputs": [],
   "source": [
    "import numpy as np\n",
    "\n",
    "# Define Newton-Raphson solver function.\n",
    "def NRsolve(f,x_0,h = 1.,dx = 10e-5):\n",
    "    '''\n",
    "    x_0 = initial value to iterate from\n",
    "    dx = step size\n",
    "    h = tolerance\n",
    "    '''\n",
    "    # Approx. Derivative.\n",
    "    def df(f,x,dx):\n",
    "        return (f(x+dx)-f(x))/dx\n",
    "\n",
    "    # Iterate until the difference between solutions is less than tolerance h.\n",
    "    iterations = 0 # Set counter.\n",
    "    difference = h\n",
    "    x_i = x_0\n",
    "    while not difference < h:\n",
    "        iterations += 1 # Increase counter.\n",
    "        x_prev = x_i\n",
    "        x_i = x_i - f(x_i)/df(f,x_i,dx)\n",
    "        difference = abs(x_prev - x_i)\n",
    "    \n",
    "    return x_i"
   ]
  },
  {
   "cell_type": "code",
   "execution_count": 10,
   "metadata": {},
   "outputs": [],
   "source": [
    "def Radfunc(E):\n",
    "    V_0 = 26 #MeV\n",
    "    a = (1.25*(226)**(1/3))*10**-12 #m\n",
    "    m = 3727.4 #MeV.c^-2\n",
    "    hbar = 6.5821e-22 #MeV.s\n",
    "    return np.sqrt(abs(E)) + (np.sqrt(V_0-abs(E)) / np.tan(np.sqrt(2*m*a**2*(V_0-abs(E)))/hbar))"
   ]
  },
  {
   "cell_type": "code",
   "execution_count": 20,
   "metadata": {},
   "outputs": [
    {
     "data": {
      "image/png": "[encoded data removed]",
      "text/plain": [
       "<Figure size 432x288 with 1 Axes>"
      ]
     },
     "metadata": {
      "needs_background": "light"
     },
     "output_type": "display_data"
    }
   ],
   "source": [
    "import matplotlib.pyplot as plt\n",
    "\n",
    "N = 100\n",
    "En = np.linspace(0,25,N) #MeV\n",
    "E,G = [],[]\n",
    "for en in En:\n",
    "    g = NRsolve(Radfunc,2)\n",
    "    plt.plot(en,g,':')\n",
    "\n",
    "plt.xlabel('E')\n",
    "plt.ylabel('g(E)')\n",
    "    \n",
    "plt.show()"
   ]
  },
  {
   "cell_type": "code",
   "execution_count": null,
   "metadata": {},
   "outputs": [],
   "source": []
  }
 ],
 "metadata": {
  "kernelspec": {
   "display_name": "Python 3",
   "language": "python",
   "name": "python3"
  },
  "language_info": {
   "codemirror_mode": {
    "name": "ipython",
    "version": 3
   },
   "file_extension": ".py",
   "mimetype": "text/x-python",
   "name": "python",
   "nbconvert_exporter": "python",
   "pygments_lexer": "ipython3",
   "version": "3.7.0"
  }
 },
 "nbformat": 4,
 "nbformat_minor": 2
}
