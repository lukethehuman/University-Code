{
 "cells": [
  {
   "cell_type": "code",
   "execution_count": 80,
   "metadata": {},
   "outputs": [],
   "source": [
    "import numpy as np\n",
    "\n",
    "def solveNR(f,x_i,\n",
    "            h = 1.,\n",
    "            delta = 10e-5):\n",
    "    '''\n",
    "    Uses the Newton-Raphson method to recursively solve stuff...\n",
    "    '''\n",
    "    \n",
    "    # Define derivative and symmetric derivative functions. \n",
    "    # These approximations are more correct as delta tends to zero, \n",
    "    # delta can be set as a kwarg, defaulting to 10e-5.\n",
    "    \n",
    "    def df(f,x,delta):\n",
    "        dfx=(f(x+delta)-f(x))/delta\n",
    "        return dfx\n",
    "    \n",
    "    def sym_df(f,x,delta):\n",
    "        dfx=(f(x+delta)-f(x-delta))/(2*delta)\n",
    "        return dfx\n",
    "    \n",
    "    # Iterate until the difference between solutions is less than tolerance h.\n",
    "    # h can be set as a kwarg, defaulting to 1.\n",
    "    \n",
    "    iterations = 0 # Set counter.\n",
    "    delx = h\n",
    "    while not delx < h:\n",
    "        iterations += 1 # Increase counter.\n",
    "        #print(\"\\niteration \"+str(iterations))\n",
    "        x_prev = x_i\n",
    "        #print(f\"x_prev = {x_prev}\")\n",
    "        x_i = x_i - f(x_i)/df(f,x_i,delta)\n",
    "        #print(f\"x_i = {x_i}\")\n",
    "        delx = abs(x_prev - x_i)\n",
    "        #print(f\"delx = {delx}\")\n",
    "        \n",
    "        \n",
    "    return(x_i,iterations)"
   ]
  },
  {
   "cell_type": "code",
   "execution_count": 97,
   "metadata": {},
   "outputs": [
    {
     "name": "stdout",
     "output_type": "stream",
     "text": [
      "a)\n",
      "x = 1.08 after 4 iterations\n",
      "\n",
      "b)\n",
      "x = 6.29 after 5 iterations\n"
     ]
    }
   ],
   "source": [
    "# Task 2\n",
    "\n",
    "print('a)')\n",
    "def f1(x):\n",
    "    return x**2-1\n",
    "ans = solveNR(f1,10)\n",
    "print(f'x = {ans[0]:.2f} after {ans[1]} iterations')\n",
    "\n",
    "print('\\nb)')\n",
    "f2 = np.poly1d([-1,9,-18,6])\n",
    "ans = solveNR(f2,10,h=0.1)\n",
    "print(f'x = {ans[0]:.2f} after {ans[1]} iterations')"
   ]
  },
  {
   "cell_type": "code",
   "execution_count": null,
   "metadata": {},
   "outputs": [],
   "source": []
  }
 ],
 "metadata": {
  "kernelspec": {
   "display_name": "Python 3",
   "language": "python",
   "name": "python3"
  },
  "language_info": {
   "codemirror_mode": {
    "name": "ipython",
    "version": 3
   },
   "file_extension": ".py",
   "mimetype": "text/x-python",
   "name": "python",
   "nbconvert_exporter": "python",
   "pygments_lexer": "ipython3",
   "version": "3.7.0"
  }
 },
 "nbformat": 4,
 "nbformat_minor": 2
}
