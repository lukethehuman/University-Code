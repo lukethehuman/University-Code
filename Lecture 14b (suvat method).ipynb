{
 "cells": [
  {
   "cell_type": "code",
   "execution_count": 24,
   "metadata": {},
   "outputs": [],
   "source": [
    "import numpy as np\n",
    "import matplotlib.pyplot as plt\n",
    "from mpl_toolkits.mplot3d import Axes3D\n",
    "import scipy.integrate as sc_i"
   ]
  },
  {
   "cell_type": "code",
   "execution_count": 11,
   "metadata": {},
   "outputs": [],
   "source": [
    "N = 100 # resolution\n",
    "\n",
    "# Set system properties.\n",
    "t = np.linspace(0,10**-6,N) # time (s)\n",
    "\n",
    "m = 10.*1.66054e-27 # mass (kg)\n",
    "q = 5.0*1.602e-19 # charge (C)\n",
    "\n",
    "Ex,Ey,Ez = 0.,0.,1.0e12 # electric field (N/C)\n",
    "Bx,By,Bz = 0.,0.,1.0 # magnetic field (T)\n",
    "\n",
    "x_0,y_0,z_0 = 0.,0.,0. # position (m)\n",
    "vx_0,vy_0,vz_0 = 0.,0.,0. #velocity (m/s)\n",
    "\n",
    "# Create initial array.\n",
    "ini_arr = [x_0,y_0,z_0,vx_0,vy_0,vz_0]\n",
    "\n",
    "# Create suvat function.\n",
    "def g(ini_arr,t):\n",
    "    '''\n",
    "    Accepts a list of position (m) and velocity (m.s^-1) components in the form (x,y,z,vx,vy,vz) and a time\n",
    "    t (s). Calculates acceleration (m.s^-2) components by the Lorentz force.  Returns an updated list of\n",
    "    positions and velocities in the same form as inputted.\n",
    "    '''\n",
    "    # Input initial velocities.\n",
    "    ux,uy,uz = ini_arr[3],ini_arr[4],ini_arr[5]\n",
    "    \n",
    "    # Calculate acceleration.\n",
    "    u_cross_B = np.cross((ux,uy,uz),(Bx,By,Bz))\n",
    "    ax,ay,az = (q/m)*(Ex+u_cross_B[0]),(q/m)*(Ey+uy*u_cross_B[1]),(q/m)*(Ez+uz*u_cross_B[2])\n",
    "    \n",
    "    # Calculate dispacement.\n",
    "    sx,sy,sz = ux*t+0.5*ax*t**2,uy*t+0.5*ay*t**2,uz*t+0.5*az*t**2\n",
    "    \n",
    "    # Update position and velocity.\n",
    "    x,y,z = ini_arr[0]+sx,ini_arr[1]+sy,ini_arr[2]+sz\n",
    "    vx,vy,vz = ux+ax*t,uy+ay*t,uz+az*t\n",
    "    \n",
    "    return (x,y,z,vx,vy,vz)"
   ]
  },
  {
   "cell_type": "code",
   "execution_count": 17,
   "metadata": {},
   "outputs": [],
   "source": [
    "# Initialise.\n",
    "X,Y,Z = [x_0],[y_0],[z_0]\n",
    "arr = ini_arr\n",
    "delta_t = t[1]-t[0]\n",
    "\n",
    "# Create dataset.\n",
    "for n in range(N-1):\n",
    "    #sc_i.odeint(\n",
    "    arr = g(arr,delta_t)\n",
    "    X.append(arr[0])\n",
    "    Y.append(arr[1])\n",
    "    Z.append(arr[2])"
   ]
  },
  {
   "cell_type": "code",
   "execution_count": 22,
   "metadata": {},
   "outputs": [
    {
     "data": {
      "image/png": "[encoded data removed]",
      "text/plain": [
       "<Figure size 432x288 with 1 Axes>"
      ]
     },
     "metadata": {
      "needs_background": "light"
     },
     "output_type": "display_data"
    }
   ],
   "source": [
    "plt.plot(t,Z)\n",
    "plt.show()"
   ]
  },
  {
   "cell_type": "code",
   "execution_count": null,
   "metadata": {},
   "outputs": [],
   "source": [
    "ax = plt.axes(projection = '3d')"
   ]
  }
 ],
 "metadata": {
  "kernelspec": {
   "display_name": "Python 3",
   "language": "python",
   "name": "python3"
  },
  "language_info": {
   "codemirror_mode": {
    "name": "ipython",
    "version": 3
   },
   "file_extension": ".py",
   "mimetype": "text/x-python",
   "name": "python",
   "nbconvert_exporter": "python",
   "pygments_lexer": "ipython3",
   "version": "3.7.0"
  }
 },
 "nbformat": 4,
 "nbformat_minor": 2
}
